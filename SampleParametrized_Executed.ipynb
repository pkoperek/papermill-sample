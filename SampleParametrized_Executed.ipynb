{
 "cells": [
  {
   "cell_type": "markdown",
   "id": "hawaiian-professor",
   "metadata": {
    "papermill": {
     "duration": 0.00679,
     "end_time": "2021-03-23T22:37:58.792818",
     "exception": false,
     "start_time": "2021-03-23T22:37:58.786028",
     "status": "completed"
    },
    "tags": []
   },
   "source": [
    "## Sample notebook for testing papermill\n",
    "\n",
    "Link to papermill docs: https://papermill.readthedocs.io/en/latest/usage-parameterize.html"
   ]
  },
  {
   "cell_type": "code",
   "execution_count": 1,
   "id": "fifty-paradise",
   "metadata": {
    "execution": {
     "iopub.execute_input": "2021-03-23T22:37:58.813140Z",
     "iopub.status.busy": "2021-03-23T22:37:58.812504Z",
     "iopub.status.idle": "2021-03-23T22:37:58.815662Z",
     "shell.execute_reply": "2021-03-23T22:37:58.814945Z"
    },
    "papermill": {
     "duration": 0.014963,
     "end_time": "2021-03-23T22:37:58.815815",
     "exception": false,
     "start_time": "2021-03-23T22:37:58.800852",
     "status": "completed"
    },
    "tags": [
     "parameters"
    ]
   },
   "outputs": [],
   "source": [
    "parameter1 = 10\n",
    "parameter2 = 20"
   ]
  },
  {
   "cell_type": "code",
   "execution_count": 2,
   "id": "prospective-conservative",
   "metadata": {
    "execution": {
     "iopub.execute_input": "2021-03-23T22:37:58.828991Z",
     "iopub.status.busy": "2021-03-23T22:37:58.828364Z",
     "iopub.status.idle": "2021-03-23T22:37:58.831468Z",
     "shell.execute_reply": "2021-03-23T22:37:58.830766Z"
    },
    "papermill": {
     "duration": 0.011728,
     "end_time": "2021-03-23T22:37:58.831610",
     "exception": false,
     "start_time": "2021-03-23T22:37:58.819882",
     "status": "completed"
    },
    "tags": [
     "injected-parameters"
    ]
   },
   "outputs": [],
   "source": [
    "# Parameters\n",
    "parameter1 = 3.14\n"
   ]
  },
  {
   "cell_type": "code",
   "execution_count": 3,
   "id": "available-pantyhose",
   "metadata": {
    "execution": {
     "iopub.execute_input": "2021-03-23T22:37:58.843254Z",
     "iopub.status.busy": "2021-03-23T22:37:58.842644Z",
     "iopub.status.idle": "2021-03-23T22:37:58.845826Z",
     "shell.execute_reply": "2021-03-23T22:37:58.845212Z"
    },
    "papermill": {
     "duration": 0.010877,
     "end_time": "2021-03-23T22:37:58.845960",
     "exception": false,
     "start_time": "2021-03-23T22:37:58.835083",
     "status": "completed"
    },
    "tags": []
   },
   "outputs": [
    {
     "name": "stdout",
     "output_type": "stream",
     "text": [
      "62.800000000000004\n"
     ]
    }
   ],
   "source": [
    "mul = parameter1 * parameter2\n",
    "print(mul)"
   ]
  }
 ],
 "metadata": {
  "celltoolbar": "Tags",
  "kernelspec": {
   "display_name": "Python 3",
   "language": "python",
   "name": "python3"
  },
  "language_info": {
   "codemirror_mode": {
    "name": "ipython",
    "version": 3
   },
   "file_extension": ".py",
   "mimetype": "text/x-python",
   "name": "python",
   "nbconvert_exporter": "python",
   "pygments_lexer": "ipython3",
   "version": "3.8.5"
  },
  "papermill": {
   "default_parameters": {},
   "duration": 2.211557,
   "end_time": "2021-03-23T22:38:00.006840",
   "environment_variables": {},
   "exception": null,
   "input_path": "SampleParametrized.ipynb",
   "output_path": "SampleParametrized_Executed.ipynb",
   "parameters": {
    "parameter1": 3.14
   },
   "start_time": "2021-03-23T22:37:57.795283",
   "version": "2.3.3"
  }
 },
 "nbformat": 4,
 "nbformat_minor": 5
}